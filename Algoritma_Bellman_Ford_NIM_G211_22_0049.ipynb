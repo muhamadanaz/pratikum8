{
  "nbformat": 4,
  "nbformat_minor": 0,
  "metadata": {
    "colab": {
      "provenance": [],
      "authorship_tag": "ABX9TyPV8RWLNgIQSVzyEqcCgB1s",
      "include_colab_link": true
    },
    "kernelspec": {
      "name": "python3",
      "display_name": "Python 3"
    },
    "language_info": {
      "name": "python"
    }
  },
  "cells": [
    {
      "cell_type": "markdown",
      "metadata": {
        "id": "view-in-github",
        "colab_type": "text"
      },
      "source": [
        "<a href=\"https://colab.research.google.com/github/muhamadanaz/pratikum8/blob/main/Algoritma_Bellman_Ford_NIM_G211_22_0049.ipynb\" target=\"_parent\"><img src=\"https://colab.research.google.com/assets/colab-badge.svg\" alt=\"Open In Colab\"/></a>"
      ]
    },
    {
      "cell_type": "code",
      "execution_count": null,
      "metadata": {
        "id": "aFg_PqcyqfmP",
        "outputId": "f9b2ff3f-53ef-4020-93d5-a343abeada68",
        "colab": {
          "base_uri": "https://localhost:8080/"
        }
      },
      "outputs": [
        {
          "output_type": "stream",
          "name": "stdout",
          "text": [
            "Shortest distances from source vertex:\n",
            "Vertex 0 : Distance = 0\n",
            "Vertex 1 : Distance = -1\n",
            "Vertex 2 : Distance = 2\n",
            "Vertex 3 : Distance = -2\n",
            "Vertex 4 : Distance = 1\n"
          ]
        }
      ],
      "source": [
        "\n",
        "class Graph:\n",
        "    def __init__(self, vertices):\n",
        "        self.V = vertices\n",
        "        self.graph = []\n",
        "\n",
        "    def add_edge(self, u, v, w):\n",
        "        self.graph.append([u, v, w])\n",
        "\n",
        "    def bellman_ford(self, src):\n",
        "        distance = [float(\"inf\")] * self.V\n",
        "        distance[src] = 0\n",
        "\n",
        "        for _ in range(self.V - 1):\n",
        "            for u, v, w in self.graph:\n",
        "                if distance[u] != float(\"inf\") and distance[u] + w < distance[v]:\n",
        "                    distance[v] = distance[u] + w\n",
        "\n",
        "        for u, v, w in self.graph:\n",
        "            if distance[u] != float(\"inf\") and distance[u] + w < distance[v]:\n",
        "                print(\"Graph contains negative weight cycle\")\n",
        "                return\n",
        "\n",
        "        print(\"Shortest distances from source vertex:\")\n",
        "        for i in range(self.V):\n",
        "            print(f\"Vertex {i} : Distance = {distance[i]}\")\n",
        "\n",
        "# Contoh penggunaan\n",
        "g = Graph(5)\n",
        "g.add_edge(0, 1, -1)\n",
        "g.add_edge(0, 2, 4)\n",
        "g.add_edge(1, 2, 3)\n",
        "g.add_edge(1, 3, 2)\n",
        "g.add_edge(1, 4, 2)\n",
        "g.add_edge(3, 2, 5)\n",
        "g.add_edge(3, 1, 1)\n",
        "g.add_edge(4, 3, -3)\n",
        "\n",
        "g.bellman_ford(0)"
      ]
    }
  ]
}